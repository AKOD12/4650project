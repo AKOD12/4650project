{
 "cells": [
  {
   "cell_type": "markdown",
   "metadata": {},
   "source": [
    "# TextBlob"
   ]
  },
  {
   "cell_type": "code",
   "execution_count": 4,
   "metadata": {},
   "outputs": [],
   "source": [
    "import os\n",
    "from nltk.sentiment import SentimentIntensityAnalyzer\n",
    "from collections import defaultdict\n",
    "from nltk.tokenize import sent_tokenize\n",
    "import numpy as np\n",
    "from textblob import TextBlob"
   ]
  },
  {
   "cell_type": "code",
   "execution_count": 5,
   "metadata": {},
   "outputs": [
    {
     "name": "stderr",
     "output_type": "stream",
     "text": [
      "[nltk_data] Downloading package stopwords to\n",
      "[nltk_data]     /Users/ankithkodali/nltk_data...\n",
      "[nltk_data]   Package stopwords is already up-to-date!\n"
     ]
    },
    {
     "data": {
      "text/plain": [
       "True"
      ]
     },
     "execution_count": 5,
     "metadata": {},
     "output_type": "execute_result"
    }
   ],
   "source": [
    "import nltk\n",
    "nltk.download('stopwords')"
   ]
  },
  {
   "cell_type": "code",
   "execution_count": 6,
   "metadata": {},
   "outputs": [],
   "source": [
    "def extract_extreme_sentences(directory_path, positive_threshold=0.5, negative_threshold=-0.5):\n",
    "    # store sentences by sentiment type and their counts\n",
    "    extreme_sentences = {'positive': [], 'negative': []}\n",
    "    sentence_counts = {'positive': 0, 'negative': 0}\n",
    "    \n",
    "    # get each txt file in the directory\n",
    "    for filename in os.listdir(directory_path):\n",
    "        if filename.endswith('.txt'):\n",
    "            file_path = os.path.join(directory_path, filename)\n",
    "            with open(file_path, 'r', encoding='utf-8') as file:\n",
    "                content = file.read()\n",
    "                blob = TextBlob(content)\n",
    "                \n",
    "                for sentence in blob.sentences:\n",
    "                    polarity = sentence.sentiment.polarity\n",
    "                    if polarity > positive_threshold:\n",
    "                        extreme_sentences['positive'].append(polarity)\n",
    "                        sentence_counts['positive'] += 1\n",
    "                    elif polarity < negative_threshold:\n",
    "                        extreme_sentences['negative'].append(polarity)\n",
    "                        sentence_counts['negative'] += 1\n",
    "                        \n",
    "    return extreme_sentences, sentence_counts\n"
   ]
  },
  {
   "cell_type": "code",
   "execution_count": 7,
   "metadata": {},
   "outputs": [],
   "source": [
    "def analyze_podcasters():\n",
    "    podcaster_sentiments = defaultdict(lambda: {'positive': [], 'negative': []})\n",
    "    podcaster_counts = defaultdict(lambda: {'positive': 0, 'negative': 0})\n",
    "    \n",
    "    for podcaster_dir in os.listdir('.'):\n",
    "        if os.path.isdir(podcaster_dir):\n",
    "            sentiments, counts = extract_extreme_sentences(podcaster_dir)\n",
    "            podcaster_sentiments[podcaster_dir]['positive'].extend(sentiments['positive'])\n",
    "            podcaster_sentiments[podcaster_dir]['negative'].extend(sentiments['negative'])\n",
    "            podcaster_counts[podcaster_dir]['positive'] += counts['positive']\n",
    "            podcaster_counts[podcaster_dir]['negative'] += counts['negative']\n",
    "\n",
    "    # Calculate average polarities and store counts\n",
    "    rankings = {}\n",
    "    for podcaster, scores in podcaster_sentiments.items():\n",
    "        avg_positive = np.mean(scores['positive']) if scores['positive'] else 0\n",
    "        avg_negative = np.mean(scores['negative']) if scores['negative'] else 0\n",
    "        rankings[podcaster] = {\n",
    "            'avg_positive': avg_positive, \n",
    "            'avg_negative': avg_negative, \n",
    "            'count_positive': podcaster_counts[podcaster]['positive'], \n",
    "            'count_negative': podcaster_counts[podcaster]['negative']\n",
    "        }\n",
    "\n",
    "    return rankings"
   ]
  },
  {
   "cell_type": "code",
   "execution_count": 8,
   "metadata": {},
   "outputs": [
    {
     "name": "stdout",
     "output_type": "stream",
     "text": [
      "Podcaster Sentiment Analysis:\n",
      "Nick:\n",
      "  Average Positive Polarity = 0.76, Count of Extreme Positive Sentences = 369\n",
      "  Average Negative Polarity = -0.81, Count of Extreme Negative Sentences = 62\n",
      "Cowherd:\n",
      "  Average Positive Polarity = 0.73, Count of Extreme Positive Sentences = 199\n",
      "  Average Negative Polarity = -0.70, Count of Extreme Negative Sentences = 53\n",
      "Skip:\n",
      "  Average Positive Polarity = 0.79, Count of Extreme Positive Sentences = 132\n",
      "  Average Negative Polarity = -0.74, Count of Extreme Negative Sentences = 37\n",
      "Shannon:\n",
      "  Average Positive Polarity = 0.74, Count of Extreme Positive Sentences = 269\n",
      "  Average Negative Polarity = -0.69, Count of Extreme Negative Sentences = 68\n",
      "Simmons:\n",
      "  Average Positive Polarity = 0.74, Count of Extreme Positive Sentences = 523\n",
      "  Average Negative Polarity = -0.71, Count of Extreme Negative Sentences = 135\n",
      "DanPatrick:\n",
      "  Average Positive Polarity = 0.73, Count of Extreme Positive Sentences = 357\n",
      "  Average Negative Polarity = -0.74, Count of Extreme Negative Sentences = 40\n",
      "Pat:\n",
      "  Average Positive Polarity = 0.76, Count of Extreme Positive Sentences = 1483\n",
      "  Average Negative Polarity = -0.71, Count of Extreme Negative Sentences = 264\n"
     ]
    }
   ],
   "source": [
    "# analyze all podcasters\n",
    "rankings = analyze_podcasters()\n",
    "\n",
    "# ranked results\n",
    "print(\"Podcaster Sentiment Analysis:\")\n",
    "for podcaster, data in rankings.items():\n",
    "    print(f\"{podcaster}:\")\n",
    "    print(f\"  Average Positive Polarity = {data['avg_positive']:.2f}, Count of Extreme Positive Sentences = {data['count_positive']}\")\n",
    "    print(f\"  Average Negative Polarity = {data['avg_negative']:.2f}, Count of Extreme Negative Sentences = {data['count_negative']}\")"
   ]
  },
  {
   "cell_type": "markdown",
   "metadata": {},
   "source": [
    "# Vader"
   ]
  },
  {
   "cell_type": "code",
   "execution_count": 9,
   "metadata": {},
   "outputs": [
    {
     "name": "stdout",
     "output_type": "stream",
     "text": [
      "Podcaster Sentiment Analysis:\n",
      "Nick:\n",
      "  Average Positive Polarity = 0.67, Count of Extreme Positive Sentences = 853, Percentage Positive = 17.09%\n",
      "  Average Negative Polarity = -0.63, Count of Extreme Negative Sentences = 205, Percentage Negative = 4.11%\n",
      "Cowherd:\n",
      "  Average Positive Polarity = 0.69, Count of Extreme Positive Sentences = 714, Percentage Positive = 21.14%\n",
      "  Average Negative Polarity = -0.64, Count of Extreme Negative Sentences = 145, Percentage Negative = 4.29%\n",
      "Skip:\n",
      "  Average Positive Polarity = 0.68, Count of Extreme Positive Sentences = 413, Percentage Positive = 14.25%\n",
      "  Average Negative Polarity = -0.67, Count of Extreme Negative Sentences = 161, Percentage Negative = 5.56%\n",
      "Shannon:\n",
      "  Average Positive Polarity = 0.66, Count of Extreme Positive Sentences = 849, Percentage Positive = 10.11%\n",
      "  Average Negative Polarity = -0.63, Count of Extreme Negative Sentences = 280, Percentage Negative = 3.33%\n",
      "Simmons:\n",
      "  Average Positive Polarity = 0.69, Count of Extreme Positive Sentences = 1642, Percentage Positive = 21.93%\n",
      "  Average Negative Polarity = -0.62, Count of Extreme Negative Sentences = 323, Percentage Negative = 4.31%\n",
      "DanPatrick:\n",
      "  Average Positive Polarity = 0.67, Count of Extreme Positive Sentences = 866, Percentage Positive = 17.53%\n",
      "  Average Negative Polarity = -0.64, Count of Extreme Negative Sentences = 164, Percentage Negative = 3.32%\n",
      "Pat:\n",
      "  Average Positive Polarity = 0.66, Count of Extreme Positive Sentences = 3134, Percentage Positive = 12.86%\n",
      "  Average Negative Polarity = -0.62, Count of Extreme Negative Sentences = 796, Percentage Negative = 3.27%\n"
     ]
    }
   ],
   "source": [
    "# Function to extract extreme sentiments and calculate percentages\n",
    "def extract_extreme_sentences(directory_path, positive_threshold=0.5, negative_threshold=-0.5):\n",
    "    sia = SentimentIntensityAnalyzer()\n",
    "    extreme_sentences = {'positive': [], 'negative': []}\n",
    "    sentence_counts = {'positive': 0, 'negative': 0, 'total': 0}\n",
    "    \n",
    "    for filename in os.listdir(directory_path):\n",
    "        if filename.endswith('.txt'):\n",
    "            file_path = os.path.join(directory_path, filename)\n",
    "            with open(file_path, 'r', encoding='utf-8') as file:\n",
    "                content = file.read()\n",
    "                sentences = sent_tokenize(content)\n",
    "                sentence_counts['total'] += len(sentences)\n",
    "                for sentence in sentences:\n",
    "                    vs = sia.polarity_scores(sentence)\n",
    "                    polarity = vs['compound']\n",
    "                    \n",
    "                    if polarity > positive_threshold:\n",
    "                        extreme_sentences['positive'].append(polarity)\n",
    "                        sentence_counts['positive'] += 1\n",
    "                    elif polarity < negative_threshold:\n",
    "                        extreme_sentences['negative'].append(polarity)\n",
    "                        sentence_counts['negative'] += 1\n",
    "                        \n",
    "    return extreme_sentences, sentence_counts\n",
    "\n",
    "# analyze all podcasters in directory\n",
    "def analyze_podcasters():\n",
    "    podcaster_sentiments = defaultdict(lambda: {'positive': [], 'negative': []})\n",
    "    podcaster_counts = defaultdict(lambda: {'positive': 0, 'negative': 0, 'total': 0})\n",
    "    \n",
    "    for podcaster_dir in os.listdir('.'):\n",
    "        if os.path.isdir(podcaster_dir):\n",
    "            sentiments, counts = extract_extreme_sentences(podcaster_dir)\n",
    "            podcaster_sentiments[podcaster_dir]['positive'].extend(sentiments['positive'])\n",
    "            podcaster_sentiments[podcaster_dir]['negative'].extend(sentiments['negative'])\n",
    "            podcaster_counts[podcaster_dir]['positive'] += counts['positive']\n",
    "            podcaster_counts[podcaster_dir]['negative'] += counts['negative']\n",
    "            podcaster_counts[podcaster_dir]['total'] += counts['total']\n",
    "\n",
    "    # Calculate average polarities and percentages\n",
    "    rankings = {}\n",
    "    for podcaster, scores in podcaster_sentiments.items():\n",
    "        avg_positive = np.mean(scores['positive']) if scores['positive'] else 0\n",
    "        avg_negative = np.mean(scores['negative']) if scores['negative'] else 0\n",
    "        perc_positive = (podcaster_counts[podcaster]['positive'] / podcaster_counts[podcaster]['total']) * 100 if podcaster_counts[podcaster]['total'] else 0\n",
    "        perc_negative = (podcaster_counts[podcaster]['negative'] / podcaster_counts[podcaster]['total']) * 100 if podcaster_counts[podcaster]['total'] else 0\n",
    "        rankings[podcaster] = {\n",
    "            'avg_positive': avg_positive,\n",
    "            'perc_positive': perc_positive,\n",
    "            'count_positive': podcaster_counts[podcaster]['positive'],\n",
    "            'avg_negative': avg_negative,\n",
    "            'perc_negative': perc_negative,\n",
    "            'count_negative': podcaster_counts[podcaster]['negative']\n",
    "        }\n",
    "\n",
    "    return rankings\n",
    "\n",
    "# analyze all podcasters\n",
    "rankings = analyze_podcasters()\n",
    "\n",
    "# ranked results with percentages\n",
    "print(\"Podcaster Sentiment Analysis:\")\n",
    "for podcaster, data in rankings.items():\n",
    "    print(f\"{podcaster}:\")\n",
    "    print(f\"  Average Positive Polarity = {data['avg_positive']:.2f}, Count of Extreme Positive Sentences = {data['count_positive']}, Percentage Positive = {data['perc_positive']:.2f}%\")\n",
    "    print(f\"  Average Negative Polarity = {data['avg_negative']:.2f}, Count of Extreme Negative Sentences = {data['count_negative']}, Percentage Negative = {data['perc_negative']:.2f}%\")"
   ]
  }
 ],
 "metadata": {
  "kernelspec": {
   "display_name": "Python 3",
   "language": "python",
   "name": "python3"
  },
  "language_info": {
   "codemirror_mode": {
    "name": "ipython",
    "version": 3
   },
   "file_extension": ".py",
   "mimetype": "text/x-python",
   "name": "python",
   "nbconvert_exporter": "python",
   "pygments_lexer": "ipython3",
   "version": "3.11.6"
  }
 },
 "nbformat": 4,
 "nbformat_minor": 2
}
